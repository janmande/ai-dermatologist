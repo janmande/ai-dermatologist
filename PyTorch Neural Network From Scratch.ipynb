{
 "cells": [
  {
   "cell_type": "markdown",
   "metadata": {},
   "source": [
    "# Neural network from scratch\n",
    "\n",
    "This notebook implements a neural network from scratch solving a simple classification problem of separating red and blue dots :-)"
   ]
  },
  {
   "cell_type": "code",
   "execution_count": 23,
   "metadata": {},
   "outputs": [],
   "source": [
    "import numpy as np\n",
    "import math"
   ]
  },
  {
   "cell_type": "markdown",
   "metadata": {},
   "source": [
    "## Plotting the data and weights\n",
    "\n",
    "The formula for the linear function that is going to separate the data is on the form\n",
    "\n",
    "$$w_0x_1 + w_1x_2 + w_2 = 0$$\n",
    "\n",
    "To graph this line we need to calculate x2 since we have w0, w1 and w2 ( or bias ) as inputs. x1 is a sequence along the x axis and x2 is the y coordinate that we get by solving for x2:\n",
    "\n",
    "$$w_0x_1 + w_1x_2 + w_2 = 0$$\n",
    "\n",
    "$$w_0x_1 + w_2 = - w_1x_2$$\n",
    "\n",
    "$$\\frac{(w_0x_1 + w_2)}{w_1} = -x_2$$\n",
    "\n",
    "$$-{(w_0x_1 +w_2)}{w_1} = x_2$$\n",
    "\n",
    "We can then calculate y and add a green dotted line to the graph to show how the network separates the red and blue dots."
   ]
  },
  {
   "cell_type": "code",
   "execution_count": 24,
   "metadata": {},
   "outputs": [],
   "source": [
    "def plot_result(data,labels,weigths,title):\n",
    "    for point,label in zip(data,labels):\n",
    "        x,y = point[0],point[1]\n",
    "        if label == 0:\n",
    "            plt.plot(x,y,'bo')\n",
    "        if label == 1:\n",
    "            plt.plot(x,y,'ro')\n",
    "    \n",
    "    xl = np.arange(-4,4,0.5)\n",
    "    y = (weigths[0]*xl+weigths[2])/weights[1]\n",
    "    plt.axis([-5,5,-5,5])\n",
    "    plt.plot(xl, y, ':g')\n",
    "    plt.title(title)\n",
    "    plt.show()\n"
   ]
  },
  {
   "cell_type": "code",
   "execution_count": 25,
   "metadata": {},
   "outputs": [
    {
     "name": "stdout",
     "output_type": "stream",
     "text": [
      "Values of inital weights:\n",
      " [[0.64305115]\n",
      " [0.43216816]\n",
      " [0.16922889]]\n"
     ]
    },
    {
     "data": {
      "image/png": "[encoded data removed]",
      "text/plain": [
       "<Figure size 432x288 with 1 Axes>"
      ]
     },
     "metadata": {},
     "output_type": "display_data"
    }
   ],
   "source": [
    "%matplotlib inline\n",
    "import matplotlib.pyplot as plt\n",
    "from sklearn import datasets\n",
    "\n",
    "# Let's get some data\n",
    "# make_blobs will generate 100 samples of two classes \n",
    "data,labels = datasets.make_blobs(centers=[(-1.5,2),(1.5,2)])\n",
    "\n",
    "# Add 1 for the bias to the data\n",
    "bias = np.ones([100,1])\n",
    "data = np.append(data,bias,axis=1)\n",
    "\n",
    "# We are living in 2D space so we need 2 weights + a weight for the bias\n",
    "def initialize_weights():\n",
    "    ndim = 2\n",
    "    weights = np.random.rand(ndim+1,1)\n",
    "    print(f'Values of inital weights:\\n {weights}')\n",
    "    return weights\n",
    "\n",
    "weights = initialize_weights()\n",
    "plot_result(data,labels,weights,'Sample data set with inital random weights as line')"
   ]
  },
  {
   "cell_type": "markdown",
   "metadata": {},
   "source": [
    "## The math\n",
    "\n",
    "The cell below implements the math we need to do the feed forward process and the back propagation."
   ]
  },
  {
   "cell_type": "code",
   "execution_count": 26,
   "metadata": {},
   "outputs": [],
   "source": [
    "# The math needed to make this work\n",
    "def sigmoid(x):\n",
    "    return 1/(1+math.exp(x*-1))\n",
    "\n",
    "# If x >= 0 the point was classified as a red point, if it is < 0 it was classified\n",
    "# as a blue point\n",
    "def step(x):\n",
    "    if x >= 0:\n",
    "        return 1\n",
    "    else:\n",
    "        return 0\n",
    "    \n",
    "def softmax(x):\n",
    "    denominator = 0\n",
    "    list = []\n",
    "    # Find the sum of the exponantial for each element in x\n",
    "    for i in range(len(x)):\n",
    "        denominator += math.exp(x[i])\n",
    "\n",
    "    # Calculate the softmax for each element in x\n",
    "    for i in range(len(L)):\n",
    "        list.append(math.exp(x[i])/denominator)\n",
    "    \n",
    "    return list\n",
    "\n",
    "# This is our peceptron which is just a matrix multiplication of inputs and weights.\n",
    "def perceptron(inputs, weights):\n",
    "    return np.dot(inputs,weights)\n",
    "\n",
    "# Based on the point, weights and prediction we adjust the weights so the line\n",
    "# gets a little bit closer to the point.\n",
    "def come_closer(point,w,prediction,learn_rate=0.1):\n",
    "    if prediction == 0:\n",
    "        w[0] += point[0]*learn_rate\n",
    "        w[1] += point[1]*learn_rate\n",
    "        w[2] += learn_rate\n",
    "    else:\n",
    "        w[0] -= point[0]*learn_rate\n",
    "        w[1] -= point[1]*learn_rate\n",
    "        w[2] -= learn_rate\n",
    "    return w"
   ]
  },
  {
   "cell_type": "markdown",
   "metadata": {},
   "source": [
    "## Training\n",
    "\n",
    "The cell below implements the training loop. \n",
    "\n",
    "In each epoch the percetron calculates the a value and we apply the step function to determine the class."
   ]
  },
  {
   "cell_type": "code",
   "execution_count": 27,
   "metadata": {},
   "outputs": [
    {
     "name": "stdout",
     "output_type": "stream",
     "text": [
      "Training for a maximum of 20 epochs\n",
      "Accuracy after epoch 1 92/100: 0.92\n",
      "Accuracy after epoch 2 92/100: 0.92\n",
      "Accuracy after epoch 3 90/100: 0.9\n"
     ]
    },
    {
     "data": {
      "image/png": "[encoded data removed]",
      "text/plain": [
       "<Figure size 432x288 with 1 Axes>"
      ]
     },
     "metadata": {},
     "output_type": "display_data"
    },
    {
     "name": "stdout",
     "output_type": "stream",
     "text": [
      "Final weights:\n",
      "[[ 0.62220354]\n",
      " [-0.14890975]\n",
      " [-0.03077111]]\n",
      "Best accuracy: 92.0%\n"
     ]
    }
   ],
   "source": [
    "learn_rate = 0.1\n",
    "epoch = 20\n",
    "length = data.shape[0]\n",
    "\n",
    "best_accuracy = 0\n",
    "newweights = weights\n",
    "print(f'Training for a maximum of {epoch} epochs')\n",
    "for i in range(epoch):\n",
    "    correct = 0\n",
    "    for point,label in zip(data,labels):\n",
    "        # Do the forward pass\n",
    "        pout = perceptron(point,newweights)\n",
    "\n",
    "        # Apply the step function to determine if the point was correctly classified\n",
    "        prediction = step(pout)\n",
    "        \n",
    "        # If prediction matches the label everything is ok, else we adjust th weights\n",
    "        # so the line moves closer to the point. We also count correctly classified points\n",
    "        if prediction == label:\n",
    "            correct += 1\n",
    "        else:\n",
    "            newweights = come_closer(point,newweights,prediction,learn_rate)\n",
    "\n",
    "    accuracy = correct/length\n",
    "    print(f'Accuracy after epoch {i+1} {correct}/{length}: {correct/length}')\n",
    "    \n",
    "    # We stop training when the accuracy has stopped improving\n",
    "    if(best_accuracy > accuracy):\n",
    "        break\n",
    "    best_accuracy = accuracy\n",
    "    newweights = weights\n",
    "    \n",
    "plot_result(data,labels,newweights,'The resulting weights plotted as a line')\n",
    "\n",
    "print(f'Final weights:\\n{newweights}')\n",
    "print(f'Best accuracy: {best_accuracy*100}%')"
   ]
  },
  {
   "cell_type": "code",
   "execution_count": null,
   "metadata": {},
   "outputs": [],
   "source": []
  }
 ],
 "metadata": {
  "kernelspec": {
   "display_name": "conda_pytorch_p36",
   "language": "python",
   "name": "conda_pytorch_p36"
  },
  "language_info": {
   "codemirror_mode": {
    "name": "ipython",
    "version": 3
   },
   "file_extension": ".py",
   "mimetype": "text/x-python",
   "name": "python",
   "nbconvert_exporter": "python",
   "pygments_lexer": "ipython3",
   "version": "3.6.5"
  }
 },
 "nbformat": 4,
 "nbformat_minor": 2
}
